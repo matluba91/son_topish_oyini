{
  "nbformat": 4,
  "nbformat_minor": 0,
  "metadata": {
    "colab": {
      "name": "Birinchi_nb.ipynb",
      "provenance": [],
      "authorship_tag": "ABX9TyOq2kkQDwkiUR9/Q3/rvgz9",
      "include_colab_link": true
    },
    "kernelspec": {
      "name": "python3",
      "display_name": "Python 3"
    },
    "language_info": {
      "name": "python"
    },
    "accelerator": "GPU",
    "gpuClass": "standard"
  },
  "cells": [
    {
      "cell_type": "markdown",
      "metadata": {
        "id": "view-in-github",
        "colab_type": "text"
      },
      "source": [
        "<a href=\"https://colab.research.google.com/github/matluba91/son_topish_oyini/blob/main/Birinchi_nb.ipynb\" target=\"_parent\"><img src=\"https://colab.research.google.com/assets/colab-badge.svg\" alt=\"Open In Colab\"/></a>"
      ]
    },
    {
      "cell_type": "code",
      "execution_count": 1,
      "metadata": {
        "colab": {
          "base_uri": "https://localhost:8080/"
        },
        "id": "nOCSpfdzzJH5",
        "outputId": "a57c7584-e72e-4948-d2e6-810d4ad7e304"
      },
      "outputs": [
        {
          "output_type": "stream",
          "name": "stdout",
          "text": [
            "Salom, Mohirdev\n"
          ]
        }
      ],
      "source": [
        "print('Salom, Mohirdev')"
      ]
    },
    {
      "cell_type": "code",
      "source": [],
      "metadata": {
        "id": "_H4fgMIB0Gps"
      },
      "execution_count": null,
      "outputs": []
    },
    {
      "cell_type": "markdown",
      "source": [
        "# Muqaddima\n",
        "- kirish[Текст ссылки](https://mohirdev.uz)\n",
        "- Bo'lim-I\n"
      ],
      "metadata": {
        "id": "IFDhxYHZ1GM4"
      }
    },
    {
      "cell_type": "code",
      "source": [
        "ls"
      ],
      "metadata": {
        "colab": {
          "base_uri": "https://localhost:8080/"
        },
        "id": "By_ov-Ub3ZX3",
        "outputId": "09261939-ce20-463b-fb01-c3e16e62468d"
      },
      "execution_count": 1,
      "outputs": [
        {
          "output_type": "stream",
          "name": "stdout",
          "text": [
            "\u001b[0m\u001b[01;34msample_data\u001b[0m/\n"
          ]
        }
      ]
    },
    {
      "cell_type": "code",
      "source": [],
      "metadata": {
        "id": "gqZLXmb9ajCy"
      },
      "execution_count": null,
      "outputs": []
    }
  ]
}